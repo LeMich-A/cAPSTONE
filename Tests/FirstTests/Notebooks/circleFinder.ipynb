{
 "cells": [
  {
   "cell_type": "code",
   "execution_count": 1,
   "metadata": {},
   "outputs": [
    {
     "name": "stderr",
     "output_type": "stream",
     "text": [
      "[ WARN:0@0.287] global loadsave.cpp:248 findDecoder imread_('back_Airpods.jpg'): can't open/read file: check file path/integrity\n"
     ]
    },
    {
     "ename": "error",
     "evalue": "OpenCV(4.9.0) /io/opencv/modules/imgproc/src/color.cpp:196: error: (-215:Assertion failed) !_src.empty() in function 'cvtColor'\n",
     "output_type": "error",
     "traceback": [
      "\u001b[0;31m---------------------------------------------------------------------------\u001b[0m",
      "\u001b[0;31merror\u001b[0m                                     Traceback (most recent call last)",
      "Cell \u001b[0;32mIn[1], line 11\u001b[0m\n\u001b[1;32m      8\u001b[0m img \u001b[38;5;241m=\u001b[39m cv2\u001b[38;5;241m.\u001b[39mimread(\u001b[38;5;124m'\u001b[39m\u001b[38;5;124mback_Airpods.jpg\u001b[39m\u001b[38;5;124m'\u001b[39m, cv2\u001b[38;5;241m.\u001b[39mIMREAD_COLOR)\n\u001b[1;32m     10\u001b[0m \u001b[38;5;66;03m# Convert to grayscale.\u001b[39;00m\n\u001b[0;32m---> 11\u001b[0m gray \u001b[38;5;241m=\u001b[39m \u001b[43mcv2\u001b[49m\u001b[38;5;241;43m.\u001b[39;49m\u001b[43mcvtColor\u001b[49m\u001b[43m(\u001b[49m\u001b[43mimg\u001b[49m\u001b[43m,\u001b[49m\u001b[43m \u001b[49m\u001b[43mcv2\u001b[49m\u001b[38;5;241;43m.\u001b[39;49m\u001b[43mCOLOR_BGR2GRAY\u001b[49m\u001b[43m)\u001b[49m\n\u001b[1;32m     13\u001b[0m \u001b[38;5;66;03m# Blur using 3 * 3 kernel.\u001b[39;00m\n\u001b[1;32m     14\u001b[0m gray_blurred \u001b[38;5;241m=\u001b[39m cv2\u001b[38;5;241m.\u001b[39mblur(gray, (\u001b[38;5;241m3\u001b[39m, \u001b[38;5;241m3\u001b[39m))\n",
      "\u001b[0;31merror\u001b[0m: OpenCV(4.9.0) /io/opencv/modules/imgproc/src/color.cpp:196: error: (-215:Assertion failed) !_src.empty() in function 'cvtColor'\n"
     ]
    }
   ],
   "source": [
    "import math\n",
    "import cv2\n",
    "import numpy as np\n",
    "import os\n",
    "from matplotlib import pyplot as plt\n",
    "\n",
    "# Read image.\n",
    "img = cv2.imread('back_Airpods.jpg', cv2.IMREAD_COLOR)\n",
    "\n",
    "# Convert to grayscale.\n",
    "gray = cv2.cvtColor(img, cv2.COLOR_BGR2GRAY)\n",
    "\n",
    "# Blur using 3 * 3 kernel.\n",
    "gray_blurred = cv2.blur(gray, (3, 3))\n",
    "\n",
    "# Define the coordinates and sizes of the ROIs.\n",
    "roi1_x, roi1_y, roi1_width, roi1_height = 100, 100, 200, 200\n",
    "\n",
    "\n",
    "# Extract ROIs from the grayscale image.\n",
    "roi1 = gray_blurred[roi1_y:roi1_y+roi1_height, roi1_x:roi1_x+roi1_width]\n",
    "\n",
    "# Apply Hough transform on the first ROI.\n",
    "detected_circles_roi1 = cv2.HoughCircles(roi1, cv2.HOUGH_GRADIENT, 1, 20, param1=50,\n",
    "                                          param2=30, minRadius=10, maxRadius=40)\n",
    "\n",
    "\n",
    " \n",
    "\n",
    "# Draw circles that are detected in the first ROI.\n",
    "if detected_circles_roi1 is not None:\n",
    "    detected_circles_roi1 = np.uint16(np.around(detected_circles_roi1))\n",
    "    for pt in detected_circles_roi1[0, :1]:\n",
    "        a, b, r = pt[0], pt[1], pt[2]\n",
    "        # Draw the circumference of the circle.\n",
    "        cv2.circle(img, (roi1_x+a, roi1_y+b), r, (0, 255, 0), 2)\n",
    "        # Draw a small circle (of radius 1) to show the center.\n",
    "        cv2.circle(img, (roi1_x+a, roi1_y+b), 1, (0, 0, 255), 3)\n",
    "\n",
    "plt.show(img)\n",
    "plt.title('Original Image'), "
   ]
  }
 ],
 "metadata": {
  "kernelspec": {
   "display_name": "Python 3",
   "language": "python",
   "name": "python3"
  },
  "language_info": {
   "codemirror_mode": {
    "name": "ipython",
    "version": 3
   },
   "file_extension": ".py",
   "mimetype": "text/x-python",
   "name": "python",
   "nbconvert_exporter": "python",
   "pygments_lexer": "ipython3",
   "version": "3.8.10"
  }
 },
 "nbformat": 4,
 "nbformat_minor": 2
}
